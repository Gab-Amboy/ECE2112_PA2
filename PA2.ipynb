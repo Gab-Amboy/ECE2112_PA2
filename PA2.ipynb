{
 "cells": [
  {
   "cell_type": "markdown",
   "id": "05be40b0-9e23-4eae-a18c-c197aa98518d",
   "metadata": {},
   "source": [
    "# Experiment #2\n",
    "### NORMALIZATION PROBLEM"
   ]
  },
  {
   "cell_type": "code",
   "execution_count": 32,
   "id": "84987eac-80b7-4340-b939-3c2fa333db15",
   "metadata": {},
   "outputs": [
    {
     "name": "stdout",
     "output_type": "stream",
     "text": [
      "X:\n",
      " [[0.99880573 0.4104488  0.85647224 0.98683974 0.09630471]\n",
      " [0.94907674 0.8672767  0.72357967 0.83752725 0.69976926]\n",
      " [0.16190384 0.50838642 0.06851914 0.52529925 0.2415484 ]\n",
      " [0.02700521 0.1918537  0.5458509  0.10979194 0.6638459 ]\n",
      " [0.8519381  0.91801335 0.35501908 0.11525813 0.58705271]]\n",
      "\n",
      "X_normalized:\n",
      " [[ 1.43629169 -0.37358968  0.99845078  1.39948236 -1.33994786]\n",
      " [ 1.28331725  1.03168705  0.58965168  0.94017293  0.516407  ]\n",
      " [-1.1381543  -0.07231766 -1.42542079 -0.02029105 -0.89315472]\n",
      " [-1.55312436 -1.04602366  0.04292914 -1.29845895  0.4059009 ]\n",
      " [ 0.98450304  1.18776122 -0.54410049 -1.28164408  0.16967259]]\n"
     ]
    }
   ],
   "source": [
    "import numpy as np\n",
    "\n",
    "# creates a random 5-by-5 array and stores it in X\n",
    "X = np.random.random((5,5))\n",
    "print(\"X:\\n\", X)\n",
    "\n",
    "# normalizes the array X and stores it in normalized_X\n",
    "X_normalized = (X - X.mean())/X.std()\n",
    "print(\"\\nX_normalized:\\n\" , X_normalized)\n",
    "\n",
    "np.save('X_normalized',X_normalized)"
   ]
  },
  {
   "cell_type": "markdown",
   "id": "580b5f21-2cee-40c8-8fd2-7adcbbedd25e",
   "metadata": {},
   "source": [
    "### DIVISIBLE BY 3 PROBLEM"
   ]
  },
  {
   "cell_type": "code",
   "execution_count": 29,
   "id": "cff7e408-0c87-45fe-a6b4-2627cd1a08a7",
   "metadata": {},
   "outputs": [
    {
     "name": "stdout",
     "output_type": "stream",
     "text": [
      "A:\n",
      " [[    1     4     9    16    25    36    49    64    81   100]\n",
      " [  121   144   169   196   225   256   289   324   361   400]\n",
      " [  441   484   529   576   625   676   729   784   841   900]\n",
      " [  961  1024  1089  1156  1225  1296  1369  1444  1521  1600]\n",
      " [ 1681  1764  1849  1936  2025  2116  2209  2304  2401  2500]\n",
      " [ 2601  2704  2809  2916  3025  3136  3249  3364  3481  3600]\n",
      " [ 3721  3844  3969  4096  4225  4356  4489  4624  4761  4900]\n",
      " [ 5041  5184  5329  5476  5625  5776  5929  6084  6241  6400]\n",
      " [ 6561  6724  6889  7056  7225  7396  7569  7744  7921  8100]\n",
      " [ 8281  8464  8649  8836  9025  9216  9409  9604  9801 10000]] \n",
      "\n",
      "div_by_3:\n",
      " [   9   36   81  144  225  324  441  576  729  900 1089 1296 1521 1764\n",
      " 2025 2304 2601 2916 3249 3600 3969 4356 4761 5184 5625 6084 6561 7056\n",
      " 7569 8100 8649 9216 9801]\n"
     ]
    }
   ],
   "source": [
    "import numpy as np\n",
    "\n",
    "# creates an array, x that consists of positive integers from 1 to 100\n",
    "A = np.linspace(1,100,100,dtype=int)\n",
    "\n",
    "# squares each element of the array and stores it back into x\n",
    "A = A ** 2\n",
    "\n",
    "# reshapes the array x into a 10-by-10 array\n",
    "A = A.reshape(10,10)\n",
    "print(\"A:\\n\", x,\"\\n\")\n",
    "\n",
    "# checks for the elements in array x that is divisible by 3 through modulus operation and stores it in the div_by_3 array\n",
    "div_by_3 = A[A % 3 ==0]\n",
    "print(\"div_by_3:\\n\", div_by_3)\n",
    "\n",
    "# Saves the resulting array into 'div_by_3.npy'\n",
    "np.save('div_by_3', div_by_3)"
   ]
  }
 ],
 "metadata": {
  "kernelspec": {
   "display_name": "Python 3 (ipykernel)",
   "language": "python",
   "name": "python3"
  },
  "language_info": {
   "codemirror_mode": {
    "name": "ipython",
    "version": 3
   },
   "file_extension": ".py",
   "mimetype": "text/x-python",
   "name": "python",
   "nbconvert_exporter": "python",
   "pygments_lexer": "ipython3",
   "version": "3.12.4"
  }
 },
 "nbformat": 4,
 "nbformat_minor": 5
}
